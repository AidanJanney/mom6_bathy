{
 "cells": [
  {
   "cell_type": "markdown",
   "metadata": {},
   "source": [
    "# mom6_bathy Notebook Gallery\n",
    "## Modify existing MOM6 grid"
   ]
  },
  {
   "cell_type": "markdown",
   "metadata": {},
   "source": [
    "## 1. Import Modules"
   ]
  },
  {
   "cell_type": "code",
   "execution_count": 1,
   "metadata": {},
   "outputs": [],
   "source": [
    "%%capture\n",
    "\n",
    "from mom6_bathy.grid import Grid\n",
    "from mom6_bathy.topo import Topo"
   ]
  },
  {
   "cell_type": "markdown",
   "metadata": {},
   "source": [
    "## 2. Create a MOM6 grid object from an existing supergrid\n",
    "\n",
    "tx2_3v2 is the current MOM6-CESM workhorse grid (0.66deg, tripolar)."
   ]
  },
  {
   "cell_type": "code",
   "execution_count": 2,
   "metadata": {},
   "outputs": [],
   "source": [
    "grid = Grid.from_supergrid('/glade/p/cesmdata/inputdata/ocn/mom/tx2_3v2/ocean_hgrid_221123.nc')"
   ]
  },
  {
   "cell_type": "markdown",
   "metadata": {},
   "source": [
    "## 3. Read the bathymetry"
   ]
  },
  {
   "cell_type": "code",
   "execution_count": 3,
   "metadata": {},
   "outputs": [],
   "source": [
    "topo = Topo.from_topo_file(grid, '/glade/p/cesmdata/inputdata/ocn/mom/tx2_3v2/ocean_topog_230413.nc')"
   ]
  },
  {
   "cell_type": "markdown",
   "metadata": {
    "tags": []
   },
   "source": [
    "## 4. Modify Depth"
   ]
  },
  {
   "cell_type": "code",
   "execution_count": 4,
   "metadata": {},
   "outputs": [
    {
     "data": {
      "application/vnd.jupyter.widget-view+json": {
       "model_id": "5193c064bb764e9a91cd27f6466a8e06",
       "version_major": 2,
       "version_minor": 0
      },
      "text/plain": [
       "DepthModifier(children=(ToggleButtons(description='Toggle display:', layout=Layout(grid_area='header'), option…"
      ]
     },
     "execution_count": 4,
     "metadata": {},
     "output_type": "execute_result"
    }
   ],
   "source": [
    "%matplotlib ipympl\n",
    "from mom6_bathy.depth_modifier import DepthModifier\n",
    "DepthModifier(topo)"
   ]
  },
  {
   "cell_type": "markdown",
   "metadata": {
    "tags": []
   },
   "source": [
    "## 5. Save the grid and bathymetry files"
   ]
  },
  {
   "cell_type": "code",
   "execution_count": 6,
   "metadata": {},
   "outputs": [],
   "source": [
    "# MOM6 supergrid file:\n",
    "grid.write_supergrid(\"./ocean_hgrid_fbot.nc\")\n",
    "\n",
    "# MOM6 topography file:\n",
    "topo.write_topo(\"./ocean_topog_fbot.nc\")\n",
    "\n",
    "# CICE grid file:\n",
    "topo.write_cice_grid(\"./cice_grid_1.nc\")\n",
    "\n",
    "# ESMF mesh file:\n",
    "topo.write_esmf_mesh(\"./ESMF_mesh_fbot.nc\")"
   ]
  },
  {
   "cell_type": "code",
   "execution_count": null,
   "metadata": {},
   "outputs": [],
   "source": []
  }
 ],
 "metadata": {
  "kernelspec": {
   "display_name": "Python [conda env:miniconda3-mom6_bathy_env]",
   "language": "python",
   "name": "conda-env-miniconda3-mom6_bathy_env-py"
  },
  "language_info": {
   "codemirror_mode": {
    "name": "ipython",
    "version": 3
   },
   "file_extension": ".py",
   "mimetype": "text/x-python",
   "name": "python",
   "nbconvert_exporter": "python",
   "pygments_lexer": "ipython3",
   "version": "3.10.0"
  }
 },
 "nbformat": 4,
 "nbformat_minor": 4
}
